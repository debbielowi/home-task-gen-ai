{
 "cells": [
  {
   "cell_type": "markdown",
   "id": "6aa64049",
   "metadata": {},
   "source": [
    "# Home task for Data Scientist (GenAI) Candidate"
   ]
  },
  {
   "cell_type": "code",
   "execution_count": 1,
   "id": "b4dcec97",
   "metadata": {},
   "outputs": [],
   "source": [
    "#loading documents and appending to a list\n",
    "from langchain_community.document_loaders import PyPDFLoader\n",
    "\n",
    "documents = []\n",
    "\n",
    "file_paths = [\"./Tallink-Grupp-Sustainability-Report-2023.pdf\", \"./EE-aastaaruanne-2023-ENG.pdf\"]\n",
    "\n",
    "for path in file_paths:\n",
    "    loader = PyPDFLoader(path)\n",
    "    document = loader.load()\n",
    "    documents.append(document)\n",
    "\n",
    "#assigning each document to a variable\n",
    "tallink = documents[0]\n",
    "eesti_energy = documents[1]"
   ]
  },
  {
   "cell_type": "code",
   "execution_count": 2,
   "id": "301aa75a",
   "metadata": {},
   "outputs": [
    {
     "name": "stdout",
     "output_type": "stream",
     "text": [
      "2 76 85\n"
     ]
    }
   ],
   "source": [
    "print(len(documents),len(tallink),len(eesti_energy)) #checking upload ok"
   ]
  },
  {
   "cell_type": "code",
   "execution_count": 3,
   "id": "c9347349",
   "metadata": {},
   "outputs": [
    {
     "name": "stdout",
     "output_type": "stream",
     "text": [
      "TABLE OF CONTENT\n",
      "2023 Key highlights \n",
      "About this report\n",
      "Welcome message from the CEO\n",
      "Tallink Grupp at a glance\n",
      "Group structure\n",
      "Our fleet and routes\n",
      "Passengers in 2023\n",
      "What we do\n",
      "Our business philosoph\n",
      "\n",
      "{'producer': 'Adobe PDF Library 17.0', 'creator': 'Adobe InDesign 19.3 (Macintosh)', 'creationdate': '2024-05-05T18:23:58+03:00', 'moddate': '2024-05-06T10:13:13+03:00', 'trapped': '/False', 'source': './Tallink-Grupp-Sustainability-Report-2023.pdf', 'total_pages': 76, 'page': 1, 'page_label': '2'}\n"
     ]
    }
   ],
   "source": [
    "print(f\"{tallink[1].page_content[:200]}\\n\") #looking at some of the document content (second page and first 200 characters)\n",
    "print(tallink[1].metadata)"
   ]
  },
  {
   "cell_type": "code",
   "execution_count": 4,
   "id": "45e85d23",
   "metadata": {},
   "outputs": [
    {
     "name": "stdout",
     "output_type": "stream",
     "text": [
      "Eesti Energia Unaudited Annual Report 2023\n",
      "4\n",
      "Contents\n",
      "Interest in storage solutions skyrocketed\n",
      "In s\n",
      "\n"
     ]
    }
   ],
   "source": [
    "print(f\"{eesti_energy[3].page_content[:100]}\\n\") #looking at other document"
   ]
  },
  {
   "cell_type": "code",
   "execution_count": 5,
   "id": "03a77f76",
   "metadata": {},
   "outputs": [],
   "source": [
    "#splitting documents using recursive character text splitter\n",
    "from langchain_text_splitters import RecursiveCharacterTextSplitter\n",
    "\n",
    "splits = []\n",
    "\n",
    "for doc in documents:\n",
    "    text_splitter = RecursiveCharacterTextSplitter(\n",
    "    chunk_size=1000, chunk_overlap=200, add_start_index=True)\n",
    "    doc_splits = text_splitter.split_documents(doc)\n",
    "    splits.append(doc_splits)\n",
    "\n",
    "tallink_splits = splits[0]\n",
    "eesti_energy_splits = splits[1]"
   ]
  },
  {
   "cell_type": "code",
   "execution_count": 6,
   "id": "b959d7da",
   "metadata": {},
   "outputs": [
    {
     "name": "stdout",
     "output_type": "stream",
     "text": [
      "2 190 379\n"
     ]
    }
   ],
   "source": [
    "print(len(splits), len(tallink_splits), len(eesti_energy_splits))"
   ]
  },
  {
   "cell_type": "code",
   "execution_count": 7,
   "id": "1a2df954",
   "metadata": {},
   "outputs": [
    {
     "name": "stderr",
     "output_type": "stream",
     "text": [
      "C:\\Users\\debbi\\AppData\\Local\\Temp\\ipykernel_13948\\36454013.py:6: LangChainDeprecationWarning: The class `HuggingFaceEmbeddings` was deprecated in LangChain 0.2.2 and will be removed in 1.0. An updated version of the class exists in the :class:`~langchain-huggingface package and should be used instead. To use it run `pip install -U :class:`~langchain-huggingface` and import as `from :class:`~langchain_huggingface import HuggingFaceEmbeddings``.\n",
      "  embedding = HuggingFaceEmbeddings(model_name=\"sentence-transformers/all-MiniLM-L6-v2\")\n",
      "c:\\Users\\debbi\\AppData\\Local\\Programs\\Python\\Python312\\Lib\\site-packages\\tqdm\\auto.py:21: TqdmWarning: IProgress not found. Please update jupyter and ipywidgets. See https://ipywidgets.readthedocs.io/en/stable/user_install.html\n",
      "  from .autonotebook import tqdm as notebook_tqdm\n"
     ]
    }
   ],
   "source": [
    "from langchain.vectorstores import FAISS\n",
    "#from langchain_core.vectorstores import InMemoryVectorStore\n",
    "from langchain.embeddings import HuggingFaceEmbeddings\n",
    "\n",
    "# Initialize embedding model\n",
    "embedding = HuggingFaceEmbeddings(model_name=\"sentence-transformers/all-MiniLM-L6-v2\")\n",
    "\n",
    "# Creating vector stores for both documents (based on split files) with embedding model\n",
    "tallink_vector_store = FAISS.from_documents(tallink_splits, embedding)\n",
    "eesti_vector_store = FAISS.from_documents(eesti_energy_splits, embedding)"
   ]
  },
  {
   "cell_type": "code",
   "execution_count": 8,
   "id": "5bf21fc3",
   "metadata": {},
   "outputs": [
    {
     "data": {
      "text/plain": [
       "<langchain_community.vectorstores.faiss.FAISS at 0x2c38b1959d0>"
      ]
     },
     "execution_count": 8,
     "metadata": {},
     "output_type": "execute_result"
    }
   ],
   "source": [
    "tallink_vector_store"
   ]
  },
  {
   "cell_type": "code",
   "execution_count": 9,
   "id": "703b91e4",
   "metadata": {},
   "outputs": [
    {
     "data": {
      "text/plain": [
       "<langchain_community.vectorstores.faiss.FAISS at 0x2c38b1515b0>"
      ]
     },
     "execution_count": 9,
     "metadata": {},
     "output_type": "execute_result"
    }
   ],
   "source": [
    "eesti_vector_store"
   ]
  },
  {
   "cell_type": "code",
   "execution_count": 10,
   "id": "ba19bfca",
   "metadata": {},
   "outputs": [
    {
     "name": "stdout",
     "output_type": "stream",
     "text": [
      "page_content='22\n",
      "I  General\n",
      "Business strategy\n",
      "The Group’s vision is to be the market pioneer \n",
      "in Europe by offering excellence in leisure and \n",
      "business travel and sea transportation services.\n",
      "The Group’s long-term strategy is to:\n",
      "• Strive for the highest level of customer satis-\n",
      "faction\n",
      "• Improve profitability and strengthen the \n",
      "leading position in our home markets\n",
      "• Develop a wide range of quality services for \n",
      "different customers and pursue new growth \n",
      "opportunities\n",
      "• Based on the demand on the core routes, \n",
      "manage optimal capacity by operating or \n",
      "chartering out vessels\n",
      "• Ensure cost efficient operations\n",
      "• Maintain an optimal debt level that allows \n",
      "paying sustainable dividends\n",
      "A modern fleet, a wide route network, a strong \n",
      "market share and brand awareness together \n",
      "with high safety, security and environmental \n",
      "standards are the main competitive advantages \n",
      "for the Group.\n",
      "These are the cornerstones for successful and \n",
      "profitable operations.' metadata={'producer': 'Adobe PDF Library 17.0', 'creator': 'Adobe InDesign 19.3 (Macintosh)', 'creationdate': '2024-05-05T18:23:58+03:00', 'moddate': '2024-05-06T10:13:13+03:00', 'trapped': '/False', 'source': './Tallink-Grupp-Sustainability-Report-2023.pdf', 'total_pages': 76, 'page': 21, 'page_label': '22', 'start_index': 0}\n"
     ]
    }
   ],
   "source": [
    "#using similarity search to find similar content to the query from the document\n",
    "results = tallink_vector_store.similarity_search(\n",
    "    \"What’s the company’s purpose and main activities?\"\n",
    ")\n",
    "\n",
    "print(results[0])"
   ]
  },
  {
   "cell_type": "code",
   "execution_count": 11,
   "id": "cdd06f7e",
   "metadata": {},
   "outputs": [
    {
     "name": "stdout",
     "output_type": "stream",
     "text": [
      "page_content='manage Eesti Energia in accordance with the owner’s expecta-\n",
      "tions, the Group’s strategy, vision and values, and applicable laws \n",
      "and regulations. We have adopted key performance indicators \n",
      "for our strategic goals, which we use to set and measure the \n",
      "achievement of goals and to evaluate the effectiveness of the \n",
      "work done. These allow us to assess whether we are on track to \n",
      "meet our goals. The Group’s strategic goals are set for a peri-\n",
      "od of five years and updated annually. To achieve the strategic \n",
      "goals, managers engage and empower the staff in alignment \n",
      "with our values and Group-wide governance principles. We use \n",
      "internal communication channels to keep employees informed \n",
      "about the organisation’s goals and how we are achieving them. \n",
      "We make sure that our people have a safe work environment and \n",
      "a high work ethic. We pay our employees a competitive salary \n",
      "and we recognise and reward them. The Group’s management \n",
      "board and supervisory board are accountable to the owner for' metadata={'producer': 'iLovePDF', 'creator': 'Adobe InDesign 19.1 (Macintosh)', 'creationdate': '2024-02-28T16:26:39+02:00', 'trapped': '/False', 'moddate': '2024-02-29T09:47:32+00:00', 'source': './EE-aastaaruanne-2023-ENG.pdf', 'total_pages': 85, 'page': 43, 'page_label': '44', 'start_index': 803}\n"
     ]
    }
   ],
   "source": [
    "results = eesti_vector_store.similarity_search(\n",
    "    \"What’s the company’s purpose and main activities?\"\n",
    ")\n",
    "\n",
    "print(results[0])"
   ]
  },
  {
   "cell_type": "code",
   "execution_count": 12,
   "id": "7046b76b",
   "metadata": {},
   "outputs": [
    {
     "name": "stdout",
     "output_type": "stream",
     "text": [
      "page_content='of its 4 hotels. Tallink Spa & Conference Hotel \n",
      "and Tallink Express Hotel reopened in autumn \n",
      "2020, Tallink City Hotel reopened after exten -\n",
      "sive repairs in June 2021. Tallink Hotel Riga re -\n",
      "opened for business in April 2023. The hotels \n",
      "welcome an average of over 450 000 guests per \n",
      "annum.\n",
      "Since 2023 all Tallink Hotels are Green Key cer-\n",
      "tified.\n",
      "Tallink Hotels operate a number of popular res-\n",
      "taurants within the hotels, such as restaurants \n",
      "Tempo, Nero and Tallink City Grill House. The \n",
      "restaurants draw crowds from local city work -\n",
      "ers and dwellers as well as from among hotel \n",
      "guests, with the Sunday brunches particularly \n",
      "popular among the families. In addition to the \n",
      "hotel restaurants, Tallink Hotels also operate \n",
      "two stand-alone restaurants – Ristorante Fla -\n",
      "vore and NOKNOK, both of which have already \n",
      "developed a loyal customer base during their \n",
      "many years of operation.\n",
      "I  General' metadata={'producer': 'Adobe PDF Library 17.0', 'creator': 'Adobe InDesign 19.3 (Macintosh)', 'creationdate': '2024-05-05T18:23:58+03:00', 'moddate': '2024-05-06T10:13:13+03:00', 'trapped': '/False', 'source': './Tallink-Grupp-Sustainability-Report-2023.pdf', 'total_pages': 76, 'page': 15, 'page_label': '16', 'start_index': 1559}\n"
     ]
    }
   ],
   "source": [
    "results = tallink_vector_store.similarity_search(\n",
    "    \"When did Tallink Hotel Riga reopen?\"\n",
    ")\n",
    "\n",
    "print(results[0])"
   ]
  },
  {
   "cell_type": "markdown",
   "id": "2cfb4a07",
   "metadata": {},
   "source": [
    "Together API key: b87147925336e042811802b051ba6dca4c0059cad12b262758e4347b963f0c59"
   ]
  },
  {
   "cell_type": "code",
   "execution_count": 13,
   "id": "aa0b3755",
   "metadata": {},
   "outputs": [],
   "source": [
    "import getpass\n",
    "import os\n",
    "\n",
    "if \"TOGETHER_API_KEY\" not in os.environ:\n",
    "    os.environ[\"TOGETHER_API_KEY\"] = getpass.getpass(\"Enter your Together API key: \")"
   ]
  },
  {
   "cell_type": "markdown",
   "id": "bb97de62",
   "metadata": {},
   "source": [
    "Below option to use Langsmith API key which I have not used in this case"
   ]
  },
  {
   "cell_type": "code",
   "execution_count": null,
   "id": "a2723ed0",
   "metadata": {},
   "outputs": [],
   "source": [
    "# os.environ[\"LANGSMITH_API_KEY\"] = getpass.getpass(\"Enter your LangSmith API key: \")\n",
    "# os.environ[\"LANGSMITH_TRACING\"] = \"true\""
   ]
  },
  {
   "cell_type": "code",
   "execution_count": 14,
   "id": "f952be3a",
   "metadata": {},
   "outputs": [],
   "source": [
    "import pandas as pd"
   ]
  },
  {
   "cell_type": "markdown",
   "id": "22648866",
   "metadata": {},
   "source": [
    "Below code is testing a for loop to be used with the LLM model, but instead of model response I have used 'test' purely for testing purposes"
   ]
  },
  {
   "cell_type": "code",
   "execution_count": 15,
   "id": "7d64dee2",
   "metadata": {},
   "outputs": [
    {
     "data": {
      "text/html": [
       "<div>\n",
       "<style scoped>\n",
       "    .dataframe tbody tr th:only-of-type {\n",
       "        vertical-align: middle;\n",
       "    }\n",
       "\n",
       "    .dataframe tbody tr th {\n",
       "        vertical-align: top;\n",
       "    }\n",
       "\n",
       "    .dataframe thead th {\n",
       "        text-align: right;\n",
       "    }\n",
       "</style>\n",
       "<table border=\"1\" class=\"dataframe\">\n",
       "  <thead>\n",
       "    <tr style=\"text-align: right;\">\n",
       "      <th></th>\n",
       "      <th>Company</th>\n",
       "      <th>Question</th>\n",
       "      <th>Answer</th>\n",
       "    </tr>\n",
       "  </thead>\n",
       "  <tbody>\n",
       "    <tr>\n",
       "      <th>0</th>\n",
       "      <td>Tallink</td>\n",
       "      <td>Please can you provide a summary of the docume...</td>\n",
       "      <td>test</td>\n",
       "    </tr>\n",
       "    <tr>\n",
       "      <th>1</th>\n",
       "      <td>Tallink</td>\n",
       "      <td>What’s the company’s purpose and main activities?</td>\n",
       "      <td>test</td>\n",
       "    </tr>\n",
       "    <tr>\n",
       "      <th>2</th>\n",
       "      <td>Tallink</td>\n",
       "      <td>What’s the company’s primary focus?</td>\n",
       "      <td>test</td>\n",
       "    </tr>\n",
       "    <tr>\n",
       "      <th>3</th>\n",
       "      <td>Tallink</td>\n",
       "      <td>What’s the company’s commitment for Risk Manag...</td>\n",
       "      <td>test</td>\n",
       "    </tr>\n",
       "    <tr>\n",
       "      <th>4</th>\n",
       "      <td>Tallink</td>\n",
       "      <td>What’s the company’s commitment for Energy Man...</td>\n",
       "      <td>test</td>\n",
       "    </tr>\n",
       "    <tr>\n",
       "      <th>5</th>\n",
       "      <td>Tallink</td>\n",
       "      <td>What’s the company’s commitment for Data Secur...</td>\n",
       "      <td>test</td>\n",
       "    </tr>\n",
       "    <tr>\n",
       "      <th>6</th>\n",
       "      <td>Eesti Energy</td>\n",
       "      <td>Please can you provide a summary of the docume...</td>\n",
       "      <td>test</td>\n",
       "    </tr>\n",
       "    <tr>\n",
       "      <th>7</th>\n",
       "      <td>Eesti Energy</td>\n",
       "      <td>What’s the company’s purpose and main activities?</td>\n",
       "      <td>test</td>\n",
       "    </tr>\n",
       "    <tr>\n",
       "      <th>8</th>\n",
       "      <td>Eesti Energy</td>\n",
       "      <td>What’s the company’s primary focus?</td>\n",
       "      <td>test</td>\n",
       "    </tr>\n",
       "    <tr>\n",
       "      <th>9</th>\n",
       "      <td>Eesti Energy</td>\n",
       "      <td>What’s the company’s commitment for Risk Manag...</td>\n",
       "      <td>test</td>\n",
       "    </tr>\n",
       "    <tr>\n",
       "      <th>10</th>\n",
       "      <td>Eesti Energy</td>\n",
       "      <td>What’s the company’s commitment for Energy Man...</td>\n",
       "      <td>test</td>\n",
       "    </tr>\n",
       "    <tr>\n",
       "      <th>11</th>\n",
       "      <td>Eesti Energy</td>\n",
       "      <td>What’s the company’s commitment for Data Secur...</td>\n",
       "      <td>test</td>\n",
       "    </tr>\n",
       "  </tbody>\n",
       "</table>\n",
       "</div>"
      ],
      "text/plain": [
       "         Company                                           Question Answer\n",
       "0        Tallink  Please can you provide a summary of the docume...   test\n",
       "1        Tallink  What’s the company’s purpose and main activities?   test\n",
       "2        Tallink                What’s the company’s primary focus?   test\n",
       "3        Tallink  What’s the company’s commitment for Risk Manag...   test\n",
       "4        Tallink  What’s the company’s commitment for Energy Man...   test\n",
       "5        Tallink  What’s the company’s commitment for Data Secur...   test\n",
       "6   Eesti Energy  Please can you provide a summary of the docume...   test\n",
       "7   Eesti Energy  What’s the company’s purpose and main activities?   test\n",
       "8   Eesti Energy                What’s the company’s primary focus?   test\n",
       "9   Eesti Energy  What’s the company’s commitment for Risk Manag...   test\n",
       "10  Eesti Energy  What’s the company’s commitment for Energy Man...   test\n",
       "11  Eesti Energy  What’s the company’s commitment for Data Secur...   test"
      ]
     },
     "execution_count": 15,
     "metadata": {},
     "output_type": "execute_result"
    }
   ],
   "source": [
    "# testing loop to be used with model but with 'test' response instead of calling model\n",
    "final_result_test = []\n",
    "companies = [\"Tallink\", \"Eesti Energy\"]\n",
    "\n",
    "questions = [\"Please can you provide a summary of the document content?\",\n",
    "             \"What’s the company’s purpose and main activities?\", \n",
    "             \"What’s the company’s primary focus?\", \n",
    "             \"What’s the company’s commitment for Risk Management?\",\n",
    "             \"What’s the company’s commitment for Energy Management?\",\n",
    "             \"What’s the company’s commitment for Data Security?\"]\n",
    "\n",
    "for company in companies:\n",
    "    for question in questions:\n",
    "        response = \"test\"\n",
    "\n",
    "        row = [company, question, response]\n",
    "        final_result_test.append(row)\n",
    "\n",
    "result_df_test = pd.DataFrame(final_result_test,columns=['Company','Question','Answer'])\n",
    "result_df_test"
   ]
  },
  {
   "cell_type": "markdown",
   "id": "abe31fc2",
   "metadata": {},
   "source": [
    "Defining application steps and LLM below"
   ]
  },
  {
   "cell_type": "code",
   "execution_count": 16,
   "id": "58f88ae7",
   "metadata": {},
   "outputs": [
    {
     "name": "stderr",
     "output_type": "stream",
     "text": [
      "c:\\Users\\debbi\\AppData\\Local\\Programs\\Python\\Python312\\Lib\\site-packages\\langsmith\\client.py:272: LangSmithMissingAPIKeyWarning: API key must be provided when using hosted LangSmith API\n",
      "  warnings.warn(\n"
     ]
    }
   ],
   "source": [
    "from langchain_together import ChatTogether\n",
    "from langchain import hub\n",
    "from langgraph.graph import START, StateGraph\n",
    "from typing_extensions import List, TypedDict\n",
    "from langchain_core.documents import Document\n",
    "\n",
    "# initialising an empty list to store final results and defining companies and questions\n",
    "final_result = []\n",
    "companies = [\"Tallink\", \"Eesti Energy\"]\n",
    "\n",
    "questions = [\"Please can you provide a summary of the document content?\",\n",
    "             \"What’s the company’s purpose and main activities?\", \n",
    "             \"What’s the company’s primary focus?\", \n",
    "             \"What’s the company’s commitment for Risk Management?\",\n",
    "             \"What’s the company’s commitment for Energy Management?\",\n",
    "             \"What’s the company’s commitment for Data Security?\"]\n",
    "\n",
    "#Defining llm and prompt\n",
    "llm = ChatTogether(\n",
    "    model=\"meta-llama/Llama-3-70b-chat-hf\",\n",
    "    temperature=0,\n",
    "    max_tokens=None,\n",
    "    timeout=None,\n",
    "    max_retries=2,\n",
    ")\n",
    "\n",
    "prompt = hub.pull(\"rlm/rag-prompt\")\n",
    "\n",
    "# Define state for application\n",
    "class State(TypedDict):\n",
    "    question: str\n",
    "    context: List[Document]\n",
    "    answer: str\n",
    "\n",
    "\n",
    "# Define application steps - different vector stores to be used depending on company\n",
    "def retrieve(state: State):\n",
    "    if company == \"Tallink\":\n",
    "        retrieved_docs = tallink_vector_store.similarity_search(state[\"question\"])\n",
    "    elif company == \"Eesti Energy\":\n",
    "        retrieved_docs = eesti_vector_store.similarity_search(state[\"question\"])\n",
    "    return {\"context\": retrieved_docs}\n",
    "\n",
    "def generate(state: State):\n",
    "    docs_content = \"\\n\\n\".join(doc.page_content for doc in state[\"context\"])\n",
    "    messages = prompt.invoke({\"question\": state[\"question\"], \"context\": docs_content})\n",
    "    response = llm.invoke(messages)\n",
    "    return {\"answer\": response.content}\n",
    "\n",
    "# Compile application and test\n",
    "graph_builder = StateGraph(State).add_sequence([retrieve, generate])\n",
    "graph_builder.add_edge(START, \"retrieve\")\n",
    "graph = graph_builder.compile()"
   ]
  },
  {
   "cell_type": "markdown",
   "id": "c3e2b6d2",
   "metadata": {},
   "source": [
    "Using a for loop to generate answers to all questions for both companies, then appending the results to a DataFrame"
   ]
  },
  {
   "cell_type": "code",
   "execution_count": 17,
   "id": "365338cb",
   "metadata": {},
   "outputs": [
    {
     "data": {
      "text/html": [
       "<div>\n",
       "<style scoped>\n",
       "    .dataframe tbody tr th:only-of-type {\n",
       "        vertical-align: middle;\n",
       "    }\n",
       "\n",
       "    .dataframe tbody tr th {\n",
       "        vertical-align: top;\n",
       "    }\n",
       "\n",
       "    .dataframe thead th {\n",
       "        text-align: right;\n",
       "    }\n",
       "</style>\n",
       "<table border=\"1\" class=\"dataframe\">\n",
       "  <thead>\n",
       "    <tr style=\"text-align: right;\">\n",
       "      <th></th>\n",
       "      <th>Company</th>\n",
       "      <th>Question</th>\n",
       "      <th>Answer</th>\n",
       "    </tr>\n",
       "  </thead>\n",
       "  <tbody>\n",
       "    <tr>\n",
       "      <th>0</th>\n",
       "      <td>Tallink</td>\n",
       "      <td>Please can you provide a summary of the docume...</td>\n",
       "      <td>The document appears to be an annual report or...</td>\n",
       "    </tr>\n",
       "    <tr>\n",
       "      <th>1</th>\n",
       "      <td>Tallink</td>\n",
       "      <td>What’s the company’s purpose and main activities?</td>\n",
       "      <td>The company's purpose is to be the market pion...</td>\n",
       "    </tr>\n",
       "    <tr>\n",
       "      <th>2</th>\n",
       "      <td>Tallink</td>\n",
       "      <td>What’s the company’s primary focus?</td>\n",
       "      <td>The company's primary focus is to offer excell...</td>\n",
       "    </tr>\n",
       "    <tr>\n",
       "      <th>3</th>\n",
       "      <td>Tallink</td>\n",
       "      <td>What’s the company’s commitment for Risk Manag...</td>\n",
       "      <td>The company's commitment to Risk Management is...</td>\n",
       "    </tr>\n",
       "    <tr>\n",
       "      <th>4</th>\n",
       "      <td>Tallink</td>\n",
       "      <td>What’s the company’s commitment for Energy Man...</td>\n",
       "      <td>Tallink Grupp has committed to increasing the ...</td>\n",
       "    </tr>\n",
       "    <tr>\n",
       "      <th>5</th>\n",
       "      <td>Tallink</td>\n",
       "      <td>What’s the company’s commitment for Data Secur...</td>\n",
       "      <td>The company is committed to safeguarding the c...</td>\n",
       "    </tr>\n",
       "    <tr>\n",
       "      <th>6</th>\n",
       "      <td>Eesti Energy</td>\n",
       "      <td>Please can you provide a summary of the docume...</td>\n",
       "      <td>The document appears to be the Eesti Energia U...</td>\n",
       "    </tr>\n",
       "    <tr>\n",
       "      <th>7</th>\n",
       "      <td>Eesti Energy</td>\n",
       "      <td>What’s the company’s purpose and main activities?</td>\n",
       "      <td>The company's purpose is to operate profitably...</td>\n",
       "    </tr>\n",
       "    <tr>\n",
       "      <th>8</th>\n",
       "      <td>Eesti Energy</td>\n",
       "      <td>What’s the company’s primary focus?</td>\n",
       "      <td>The company's primary focus is on leading the ...</td>\n",
       "    </tr>\n",
       "    <tr>\n",
       "      <th>9</th>\n",
       "      <td>Eesti Energy</td>\n",
       "      <td>What’s the company’s commitment for Risk Manag...</td>\n",
       "      <td>The company's commitment to Risk Management is...</td>\n",
       "    </tr>\n",
       "    <tr>\n",
       "      <th>10</th>\n",
       "      <td>Eesti Energy</td>\n",
       "      <td>What’s the company’s commitment for Energy Man...</td>\n",
       "      <td>The company's commitment to Energy Management ...</td>\n",
       "    </tr>\n",
       "    <tr>\n",
       "      <th>11</th>\n",
       "      <td>Eesti Energy</td>\n",
       "      <td>What’s the company’s commitment for Data Secur...</td>\n",
       "      <td>The company's commitment to data security is t...</td>\n",
       "    </tr>\n",
       "  </tbody>\n",
       "</table>\n",
       "</div>"
      ],
      "text/plain": [
       "         Company                                           Question  \\\n",
       "0        Tallink  Please can you provide a summary of the docume...   \n",
       "1        Tallink  What’s the company’s purpose and main activities?   \n",
       "2        Tallink                What’s the company’s primary focus?   \n",
       "3        Tallink  What’s the company’s commitment for Risk Manag...   \n",
       "4        Tallink  What’s the company’s commitment for Energy Man...   \n",
       "5        Tallink  What’s the company’s commitment for Data Secur...   \n",
       "6   Eesti Energy  Please can you provide a summary of the docume...   \n",
       "7   Eesti Energy  What’s the company’s purpose and main activities?   \n",
       "8   Eesti Energy                What’s the company’s primary focus?   \n",
       "9   Eesti Energy  What’s the company’s commitment for Risk Manag...   \n",
       "10  Eesti Energy  What’s the company’s commitment for Energy Man...   \n",
       "11  Eesti Energy  What’s the company’s commitment for Data Secur...   \n",
       "\n",
       "                                               Answer  \n",
       "0   The document appears to be an annual report or...  \n",
       "1   The company's purpose is to be the market pion...  \n",
       "2   The company's primary focus is to offer excell...  \n",
       "3   The company's commitment to Risk Management is...  \n",
       "4   Tallink Grupp has committed to increasing the ...  \n",
       "5   The company is committed to safeguarding the c...  \n",
       "6   The document appears to be the Eesti Energia U...  \n",
       "7   The company's purpose is to operate profitably...  \n",
       "8   The company's primary focus is on leading the ...  \n",
       "9   The company's commitment to Risk Management is...  \n",
       "10  The company's commitment to Energy Management ...  \n",
       "11  The company's commitment to data security is t...  "
      ]
     },
     "execution_count": 17,
     "metadata": {},
     "output_type": "execute_result"
    }
   ],
   "source": [
    "# Using a for loop to generate answers to all questions for both companies, then appending the results to a DataFrame\n",
    "for company in companies:\n",
    "    for question in questions:\n",
    "        response = graph.invoke({\"question\": question})\n",
    "\n",
    "        row = [company, question, response[\"answer\"]]\n",
    "\n",
    "        final_result.append(row)\n",
    "\n",
    "result_df = pd.DataFrame(final_result,columns=['Company','Question','Answer'])\n",
    "result_df"
   ]
  },
  {
   "cell_type": "code",
   "execution_count": 18,
   "id": "c6ec74fa",
   "metadata": {},
   "outputs": [],
   "source": [
    "# Convert DataFrame to JSON and save to a file\n",
    "result_df.to_json('taskresults.json', orient='records', lines=True)"
   ]
  },
  {
   "cell_type": "code",
   "execution_count": 19,
   "id": "5d69226d",
   "metadata": {},
   "outputs": [
    {
     "name": "stderr",
     "output_type": "stream",
     "text": [
      "2025-06-16 01:27:14.205 WARNING streamlit.runtime.scriptrunner_utils.script_run_context: Thread 'MainThread': missing ScriptRunContext! This warning can be ignored when running in bare mode.\n",
      "2025-06-16 01:27:14.607 \n",
      "  \u001b[33m\u001b[1mWarning:\u001b[0m to view this Streamlit app on a browser, run it with the following\n",
      "  command:\n",
      "\n",
      "    streamlit run C:\\Users\\debbi\\AppData\\Roaming\\Python\\Python312\\site-packages\\ipykernel_launcher.py [ARGUMENTS]\n",
      "2025-06-16 01:27:14.609 Thread 'MainThread': missing ScriptRunContext! This warning can be ignored when running in bare mode.\n",
      "2025-06-16 01:27:14.609 Thread 'MainThread': missing ScriptRunContext! This warning can be ignored when running in bare mode.\n",
      "2025-06-16 01:27:14.609 Thread 'MainThread': missing ScriptRunContext! This warning can be ignored when running in bare mode.\n",
      "2025-06-16 01:27:14.609 Thread 'MainThread': missing ScriptRunContext! This warning can be ignored when running in bare mode.\n",
      "2025-06-16 01:27:14.609 Thread 'MainThread': missing ScriptRunContext! This warning can be ignored when running in bare mode.\n"
     ]
    },
    {
     "data": {
      "text/plain": [
       "DeltaGenerator()"
      ]
     },
     "execution_count": 19,
     "metadata": {},
     "output_type": "execute_result"
    }
   ],
   "source": [
    "import json\n",
    "import streamlit as st\n",
    "\n",
    "with open('taskresults.json') as f:\n",
    "    data = [json.loads(line) for line in f]\n",
    "\n",
    "st.json(data)\n",
    "\n",
    "# Display the JSON in the Streamlit UI\n",
    "st.title(\"Results Viewer\")\n",
    "st.json(data)"
   ]
  }
 ],
 "metadata": {
  "kernelspec": {
   "display_name": "Python 3",
   "language": "python",
   "name": "python3"
  },
  "language_info": {
   "codemirror_mode": {
    "name": "ipython",
    "version": 3
   },
   "file_extension": ".py",
   "mimetype": "text/x-python",
   "name": "python",
   "nbconvert_exporter": "python",
   "pygments_lexer": "ipython3",
   "version": "3.12.0"
  }
 },
 "nbformat": 4,
 "nbformat_minor": 5
}
